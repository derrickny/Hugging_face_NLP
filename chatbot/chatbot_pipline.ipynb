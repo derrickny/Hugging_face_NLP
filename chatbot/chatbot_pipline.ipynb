{
 "cells": [
  {
   "cell_type": "code",
   "execution_count": 4,
   "metadata": {},
   "outputs": [],
   "source": [
    "from transformers.utils import logging\n",
    "logging.set_verbosity_error()\n",
    "\n",
    "from transformers import pipeline\n",
    "from transformers import Conversation"
   ]
  },
  {
   "cell_type": "code",
   "execution_count": 2,
   "metadata": {},
   "outputs": [],
   "source": [
    "chatbot = pipeline(task=\"conversational\",\n",
    "                   model=\"facebook/blenderbot-400M-distill\")"
   ]
  },
  {
   "cell_type": "code",
   "execution_count": 3,
   "metadata": {},
   "outputs": [],
   "source": [
    "user_message = \"\"\"\n",
    "What are some fun activities I can do in the winter?\n",
    "\"\"\""
   ]
  },
  {
   "cell_type": "code",
   "execution_count": 5,
   "metadata": {},
   "outputs": [
    {
     "name": "stdout",
     "output_type": "stream",
     "text": [
      "Conversation id: 3597c07b-38e5-4c19-b8ee-0063fffb198f\n",
      "user: \n",
      "What are some fun activities I can do in the winter?\n",
      "\n",
      "\n"
     ]
    }
   ],
   "source": [
    "conversation = Conversation(user_message)\n",
    "print(conversation)"
   ]
  },
  {
   "cell_type": "code",
   "execution_count": 14,
   "metadata": {},
   "outputs": [],
   "source": [
    "\n",
    "def chatbot_pipeline(conversation):\n",
    "    \"\"\"\n",
    "    This function takes a conversation as input and processes it using a chatbot pipeline.\n",
    "    \n",
    "    Parameters:\n",
    "    conversation (list): A list of messages in the conversation.\n",
    "    \n",
    "    Returns:\n",
    "    list: The updated conversation after processing it using the chatbot pipeline.\n",
    "    \"\"\"\n",
    "    response = chatbot(conversation)\n",
    "    print(response)\n"
   ]
  },
  {
   "cell_type": "code",
   "execution_count": 15,
   "metadata": {},
   "outputs": [
    {
     "name": "stdout",
     "output_type": "stream",
     "text": [
      "Conversation id: 2d8b25a4-18db-447c-afe7-6baa3de4e87d\n",
      "user: \n",
      "What are some fun activities I can do in the winter?\n",
      "\n",
      "assistant:  I like snowboarding and skiing.  What do you like to do in winter?\n",
      "assistant:  Snowboarding is a lot of fun. I like to ski and snowboard.\n",
      "\n"
     ]
    }
   ],
   "source": [
    "chatbot_pipeline(conversation)"
   ]
  },
  {
   "cell_type": "code",
   "execution_count": 17,
   "metadata": {},
   "outputs": [],
   "source": [
    "# a function to keep the conversation going with the chatbot\n",
    "def chat():\n",
    "    # Initialize the conversation history storing the user and bot messages\n",
    "    conversation_history = []\n",
    "    # this loop will keep the conversation going until the user ends it\n",
    "    while True:\n",
    "        # Get the user input\n",
    "        user_input = input(\"User: \")\n",
    "        # Append the user input to the conversation history\n",
    "        conversation_history.append({'role': 'user', 'content': user_input})\n",
    "        # this find user content to the chatbot so that it can respond\n",
    "        bot_response = chatbot(conversation_history)\n",
    "        # Print the bot response\n",
    "        print(\"Bot: \", bot_response[-1]['content'])\n",
    "        # Append the bot response to the conversation history\n",
    "        conversation_history.append({'role': 'bot', 'content': bot_response[-1]['content']})\n",
    "\n",
    "# Call the chat function to start a conversation\n",
    "chat()\n"
   ]
  },
  {
   "cell_type": "code",
   "execution_count": null,
   "metadata": {},
   "outputs": [],
   "source": []
  },
  {
   "cell_type": "code",
   "execution_count": null,
   "metadata": {},
   "outputs": [],
   "source": []
  }
 ],
 "metadata": {
  "kernelspec": {
   "display_name": "Python 3",
   "language": "python",
   "name": "python3"
  },
  "language_info": {
   "codemirror_mode": {
    "name": "ipython",
    "version": 3
   },
   "file_extension": ".py",
   "mimetype": "text/x-python",
   "name": "python",
   "nbconvert_exporter": "python",
   "pygments_lexer": "ipython3",
   "version": "3.11.8"
  }
 },
 "nbformat": 4,
 "nbformat_minor": 2
}
