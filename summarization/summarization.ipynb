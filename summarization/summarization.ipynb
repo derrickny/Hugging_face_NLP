{
 "cells": [
  {
   "cell_type": "code",
   "execution_count": 1,
   "metadata": {},
   "outputs": [],
   "source": [
    "#importing the required libraries\n",
    "from transformers import pipeline\n",
    "import torch"
   ]
  },
  {
   "cell_type": "code",
   "execution_count": 8,
   "metadata": {},
   "outputs": [],
   "source": [
    "#creating a summarizer object using the pipeline function which aids in accessing various NLP models\n",
    "Summarizer = pipeline(task = \"summarization\",\n",
    "                      model =\"facebook/bart-large-cnn\",\n",
    "                      torch_dtype =torch.bfloat16)\n"
   ]
  },
  {
   "cell_type": "code",
   "execution_count": 9,
   "metadata": {},
   "outputs": [],
   "source": [
    "notes =\"\"\"\n",
    "As the Software Developer and IT Support Specialist at Metrocare Health Clinic, \n",
    "I was tasked with various responsibilities. \n",
    "Firstly, I built and maintained the company website, ensuring it provided comprehensive information about the clinic's services, staff, and contact details. \n",
    "This involved utilizing web development technologies such as HTML, CSS, JavaScript to create a user-friendly interface that was responsive across different devices.\n",
    "\n",
    "\"\"\""
   ]
  },
  {
   "cell_type": "code",
   "execution_count": 10,
   "metadata": {},
   "outputs": [],
   "source": [
    "#summarizing the notes using the summarizer object max_length and min_length are the maximum and minimum length of the summary , \n",
    "# do_sample is set to False to ensure that the model does not generate multiple summaries\n",
    "Summarizer = Summarizer(notes, max_length = 70, min_length = 30, do_sample = False)"
   ]
  },
  {
   "cell_type": "code",
   "execution_count": 22,
   "metadata": {},
   "outputs": [
    {
     "name": "stdout",
     "output_type": "stream",
     "text": [
      "[{'summary_text': \"As the Software Developer and IT Support Specialist at Metrocare Health Clinic, I was tasked with various responsibilities. I built and maintained the company website, ensuring it provided comprehensive information about the clinic's services, staff, and contact details.\"}]\n"
     ]
    }
   ],
   "source": [
    "print(Summarizer)"
   ]
  },
  {
   "cell_type": "code",
   "execution_count": 21,
   "metadata": {},
   "outputs": [
    {
     "name": "stdout",
     "output_type": "stream",
     "text": [
      "Number of words in notes: 61\n",
      "Number of words in Summarizer: 38\n"
     ]
    }
   ],
   "source": [
    "notes_word_count = len(notes.split())\n",
    "Summarizer_word_count = len(Summarizer[0]['summary_text'].split())\n",
    "\n",
    "print('Number of words in notes:', notes_word_count)\n",
    "print('Number of words in Summarizer:', Summarizer_word_count)"
   ]
  }
 ],
 "metadata": {
  "kernelspec": {
   "display_name": "tensorflow",
   "language": "python",
   "name": "python3"
  },
  "language_info": {
   "codemirror_mode": {
    "name": "ipython",
    "version": 3
   },
   "file_extension": ".py",
   "mimetype": "text/x-python",
   "name": "python",
   "nbconvert_exporter": "python",
   "pygments_lexer": "ipython3",
   "version": "3.11.8"
  }
 },
 "nbformat": 4,
 "nbformat_minor": 2
}
